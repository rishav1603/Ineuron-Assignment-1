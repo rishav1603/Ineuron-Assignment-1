{
  "nbformat": 4,
  "nbformat_minor": 0,
  "metadata": {
    "colab": {
      "name": "Ineuron Assignment 3.ipynb",
      "provenance": [],
      "collapsed_sections": [],
      "authorship_tag": "ABX9TyPF/P6QHb5YHxdH6FSZVnhI",
      "include_colab_link": true
    },
    "kernelspec": {
      "name": "python3",
      "display_name": "Python 3"
    }
  },
  "cells": [
    {
      "cell_type": "markdown",
      "metadata": {
        "id": "view-in-github",
        "colab_type": "text"
      },
      "source": [
        "<a href=\"https://colab.research.google.com/github/rishav1603/Ineuron-Assignments/blob/main/Ineuron_Assignment_3.ipynb\" target=\"_parent\"><img src=\"https://colab.research.google.com/assets/colab-badge.svg\" alt=\"Open In Colab\"/></a>"
      ]
    },
    {
      "cell_type": "markdown",
      "metadata": {
        "id": "L7gfoQoT84cO"
      },
      "source": [
        "1.1 Write a Python Program to implement your own myreduce() function which works exactly  like Python's built-in function reduce()"
      ]
    },
    {
      "cell_type": "code",
      "metadata": {
        "id": "qZe1cWb587nk",
        "colab": {
          "base_uri": "https://localhost:8080/"
        },
        "outputId": "6d91f8f2-738d-4bf5-d10f-95f67e4fee06"
      },
      "source": [
        "def myreduce(function,mylist):\n",
        "  x=mylist[0]\n",
        "\n",
        "  for i in range(1,len(mylist)):\n",
        "  \tx = function(x,mylist[i])\n",
        "  return (x)\n",
        "\n",
        "def multiply(a,b):\n",
        "  return a*b\n",
        "\n",
        "test_list=[1,5,10,15]\n",
        "\n",
        "myreduce(multiply,test_list)"
      ],
      "execution_count": 57,
      "outputs": [
        {
          "output_type": "execute_result",
          "data": {
            "text/plain": [
              "750"
            ]
          },
          "metadata": {
            "tags": []
          },
          "execution_count": 57
        }
      ]
    },
    {
      "cell_type": "markdown",
      "metadata": {
        "id": "tGgQX5Y288QF"
      },
      "source": [
        "1.2 Write a Python program to implement your own myfilter() function which works exactly  like Python's built-in function filter() \n"
      ]
    },
    {
      "cell_type": "code",
      "metadata": {
        "colab": {
          "base_uri": "https://localhost:8080/"
        },
        "id": "2Cur3hSc890D",
        "outputId": "86db48ee-5a0f-4d8f-9c91-9a90c6001719"
      },
      "source": [
        "# Creating a filter function to select only numbers divisible by 5 from a list:\n",
        "\n",
        "def myfilter(div_by_five,input_list):\n",
        "    list_3 = []\n",
        "    for i in input_list:\n",
        "      if div_by_five(i):\n",
        "        list_3.append(i)\n",
        "    return list_3\n",
        "\n",
        "def div_by_five(a):\n",
        "    if a % 5 == 0:\n",
        "      return True\n",
        "    else:\n",
        "      return False\n",
        "\n",
        "list_2=[2,3,4,5,6,7,8,9,10,12,15]\n",
        "myfilter(div_by_five,list_2)\n",
        "  "
      ],
      "execution_count": null,
      "outputs": [
        {
          "output_type": "execute_result",
          "data": {
            "text/plain": [
              "[5, 10, 15]"
            ]
          },
          "metadata": {
            "tags": []
          },
          "execution_count": 19
        }
      ]
    },
    {
      "cell_type": "markdown",
      "metadata": {
        "id": "cHllttFg8-nu"
      },
      "source": [
        "2. Implement List comprehensions to produce the following lists.  \n",
        "Write List comprehensions to produce the following Lists \n",
        "\n",
        "\n",
        "['x', 'xx', 'xxx', 'xxxx', 'y', 'yy', 'yyy', 'yyyy', 'z', 'zz', 'zzz', 'zzzz']  \n",
        "\n",
        "['x', 'y', 'z', 'xx', 'yy', 'zz', 'xxx', 'yyy', 'zzz', 'xxxx', 'yyyy', 'zzzz']  \n",
        "\n",
        "[[2], [3], [4], [3], [4], [5], [4], [5], [6]] \n",
        "\n",
        "[[2, 3, 4, 5], [3, 4, 5, 6], [4, 5, 6, 7], [5, 6, 7, 8]] \n"
      ]
    },
    {
      "cell_type": "code",
      "metadata": {
        "colab": {
          "base_uri": "https://localhost:8080/"
        },
        "id": "Aym6wMVK9CDz",
        "outputId": "d99ba614-4edd-41f3-cba5-a84c906d5c0f"
      },
      "source": [
        "# 1.\n",
        "\n",
        "[i*j for i in 'xyz' for j in range(1,5)]"
      ],
      "execution_count": null,
      "outputs": [
        {
          "output_type": "execute_result",
          "data": {
            "text/plain": [
              "['x', 'xx', 'xxx', 'xxxx', 'y', 'yy', 'yyy', 'yyyy', 'z', 'zz', 'zzz', 'zzzz']"
            ]
          },
          "metadata": {
            "tags": []
          },
          "execution_count": 26
        }
      ]
    },
    {
      "cell_type": "code",
      "metadata": {
        "colab": {
          "base_uri": "https://localhost:8080/"
        },
        "id": "8hkToVsxLxaY",
        "outputId": "46d77f8f-568e-4b27-cb71-32edd2d51fb5"
      },
      "source": [
        "[ i*j for j in range(1,5) for i in 'xyz']\n"
      ],
      "execution_count": null,
      "outputs": [
        {
          "output_type": "execute_result",
          "data": {
            "text/plain": [
              "['x', 'y', 'z', 'xx', 'yy', 'zz', 'xxx', 'yyy', 'zzz', 'xxxx', 'yyyy', 'zzzz']"
            ]
          },
          "metadata": {
            "tags": []
          },
          "execution_count": 29
        }
      ]
    },
    {
      "cell_type": "code",
      "metadata": {
        "colab": {
          "base_uri": "https://localhost:8080/"
        },
        "id": "Lx2YQkbuOFd_",
        "outputId": "1af4d76a-ce3f-40d5-8555-b9c6a010ee96"
      },
      "source": [
        "my_list = [2,3,4,5,6]\n",
        "[my_list[i:i+1] for i in range(len(my_list))]"
      ],
      "execution_count": null,
      "outputs": [
        {
          "output_type": "execute_result",
          "data": {
            "text/plain": [
              "[[2], [3], [4], [5], [6]]"
            ]
          },
          "metadata": {
            "tags": []
          },
          "execution_count": 50
        }
      ]
    },
    {
      "cell_type": "code",
      "metadata": {
        "colab": {
          "base_uri": "https://localhost:8080/"
        },
        "id": "fEWPk0T5QGlW",
        "outputId": "74c416b3-5607-4d8a-9b15-53f21882b15f"
      },
      "source": [
        "var = [2,3,4,5,6,7,8]\n",
        "\n",
        "[ var[i:i+4] for i in range(0,len(var)-3)]"
      ],
      "execution_count": null,
      "outputs": [
        {
          "output_type": "execute_result",
          "data": {
            "text/plain": [
              "[[2, 3, 4, 5], [3, 4, 5, 6], [4, 5, 6, 7], [5, 6, 7, 8]]"
            ]
          },
          "metadata": {
            "tags": []
          },
          "execution_count": 42
        }
      ]
    },
    {
      "cell_type": "code",
      "metadata": {
        "id": "1_6HU46lXJJI"
      },
      "source": [
        ""
      ],
      "execution_count": null,
      "outputs": []
    }
  ]
}